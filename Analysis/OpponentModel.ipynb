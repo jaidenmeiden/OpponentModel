{
 "cells": [
  {
   "cell_type": "code",
   "execution_count": 1,
   "metadata": {
    "pycharm": {
     "is_executing": true
    }
   },
   "outputs": [],
   "source": [
    "import pandas as pd\n",
    "import numpy as np\n",
    "import scipy\n",
    "import array as arr\n",
    "from scipy.stats import mannwhitneyu"
   ]
  },
  {
   "cell_type": "markdown",
   "metadata": {
    "pycharm": {
     "name": "#%% md\n"
    }
   },
   "source": [
    "## Mann–Whitney U test"
   ]
  },
  {
   "cell_type": "markdown",
   "metadata": {},
   "source": [
    "El test **Mann-Whitney U** se usa a menudo para probar si hay una diferencia entre dos categorías en una variable ordinal (Las variables ordinales, a diferencia de las nominales, sí pueden ser ordenadas de forma jerárquica).\n",
    "\n",
    "Aunque a menudo se piensa que se compara la mediana de cada categoría, en realidad se comparan los rangos medios de cada grupo.\n",
    "\n",
    "Los rangos se determinan simplemente ordenando primero todos los puntajes en la variable ordinal, luego el puntaje más bajo obtiene el rango 1, el siguiente rango 2, etc. El rango más alto posible es, por lo tanto, el número total de casos. Si dos o más puntajes son iguales, se usa el promedio de los rangos que hubieran obtenido. Entonces, si, por ejemplo, el cuarto puntaje es un 9, el quinto es un 9 y el sexto es un 9, entonces el rango para el puntaje cuatro, cinco y seis será cada uno (4 + 5 + 6) / 3 = 5."
   ]
  },
  {
   "cell_type": "code",
   "execution_count": 19,
   "metadata": {},
   "outputs": [],
   "source": [
    "def is_unique(s):\n",
    "    a = s.to_numpy() # s.values (pandas<0.24)\n",
    "    return (a[0] == a).all()"
   ]
  },
  {
   "cell_type": "code",
   "execution_count": 2,
   "metadata": {
    "pycharm": {
     "is_executing": true
    }
   },
   "outputs": [],
   "source": [
    "Laptop = pd.read_csv('./Data/Laptop/tournament-20210524-195728-Acquisition-A-domain.log.csv', sep=';')\n",
    "Grocery = pd.read_csv('./Data/Grocery/tournament-20210524-220009-Grocery-A-domain.log.csv', sep=';')\n",
    "ItexCypress = pd.read_csv('./Data/Itex-Cypress/tournament-20210525-093515-ItexvsCypress-A-domain.log.csv', sep=';')\n",
    "Travel = pd.read_csv('./Data/Travel/tournament-20210525-122752-Travel-A-domain.log.csv', sep=';')\n",
    "Evaluation = pd.read_csv('./Data/Evaluation/tournament-20210525-184830-Laptop-A-domain.log.csv', sep=';')"
   ]
  },
  {
   "cell_type": "markdown",
   "metadata": {
    "pycharm": {
     "name": "#%% md\n"
    }
   },
   "source": [
    "### Limpieza de columnas"
   ]
  },
  {
   "cell_type": "code",
   "execution_count": 3,
   "metadata": {
    "pycharm": {
     "is_executing": true
    }
   },
   "outputs": [],
   "source": [
    "contents = ['boa-negotiator.boaframework.offeringstrategy.', 'negotiator.boaframework.acceptanceconditions.', 'negotiator.boaframework.opponentmodel.', 'negotiator.boaframework.omstrategy.']\n",
    "for content in contents:\n",
    "    Laptop['Agent 1'] = Laptop['Agent 1'].str.replace(content,'')\n",
    "    Grocery['Agent 1'] = Grocery['Agent 1'].str.replace(content,'')\n",
    "    ItexCypress['Agent 1'] = ItexCypress['Agent 1'].str.replace(content,'')\n",
    "    Travel['Agent 1'] = Travel['Agent 1'].str.replace(content,'')\n",
    "    \n",
    "    Laptop['Agent 2'] = Laptop['Agent 1'].str.replace(content,'')\n",
    "    Grocery['Agent 2'] = Grocery['Agent 1'].str.replace(content,'')\n",
    "    ItexCypress['Agent 2'] = ItexCypress['Agent 1'].str.replace(content,'')\n",
    "    Travel['Agent 2'] = Travel['Agent 1'].str.replace(content,'')\n",
    "#Columna: Agent 1\n",
    "Laptop['Agent 1'] = Laptop['Agent 1'].str.replace('-','|').str.split('@').str[0]\n",
    "Grocery['Agent 1'] = Grocery['Agent 1'].str.replace('-','|').str.split('@').str[0]\n",
    "ItexCypress['Agent 1'] = ItexCypress['Agent 1'].str.replace('-','|').str.split('@').str[0]\n",
    "Travel['Agent 1'] = Travel['Agent 1'].str.replace('-','|').str.split('@').str[0]\n",
    "#Columna: Agent 2\n",
    "Laptop['Agent 2'] = Laptop['Agent 1'].str.replace('-','|').str.split('@').str[0]\n",
    "Grocery['Agent 2'] = Grocery['Agent 1'].str.replace('-','|').str.split('@').str[0]\n",
    "ItexCypress['Agent 2'] = ItexCypress['Agent 1'].str.replace('-','|').str.split('@').str[0]\n",
    "Travel['Agent 2'] = Travel['Agent 1'].str.replace('-','|').str.split('@').str[0]"
   ]
  },
  {
   "cell_type": "markdown",
   "metadata": {
    "pycharm": {
     "name": "#%% md\n"
    }
   },
   "source": [
    "### Agentes"
   ]
  },
  {
   "cell_type": "code",
   "execution_count": 4,
   "metadata": {
    "pycharm": {
     "is_executing": true,
     "name": "#%%\n"
    }
   },
   "outputs": [
    {
     "data": {
      "text/plain": [
       "['anac2012.TheNegotiatorReloaded_Offering|anac2010.AC_AgentK|ScalableBayesianModel|BestBid_t',\n",
       " 'anac2012.TheNegotiatorReloaded_Offering|anac2010.AC_AgentK|NashFrequencyModel|BestBid_t',\n",
       " 'anac2012.TheNegotiatorReloaded_Offering|anac2010.AC_AgentK|PerfectModel|BestBid_t',\n",
       " 'anac2013.InoxAgent_Offering_OneIssue|anac2012.AC_CUHKAgent|ScalableBayesianModel|BestBid_t',\n",
       " 'anac2013.InoxAgent_Offering_OneIssue|other.AC_Uncertain|PerfectModel|BestBid_t',\n",
       " 'anac2013.InoxAgent_Offering_OneIssue|other.AC_Uncertain|NashFrequencyModel|BestBid_t',\n",
       " 'anac2013.InoxAgent_Offering_OneIssue|other.AC_Uncertain|ScalableBayesianModel|BestBid_t',\n",
       " 'anac2013.InoxAgent_Offering_OneIssue|anac2010.AC_AgentK|PerfectModel|BestBid_t',\n",
       " 'anac2013.InoxAgent_Offering_OneIssue|anac2010.AC_AgentK|NashFrequencyModel|BestBid_t',\n",
       " 'anac2013.InoxAgent_Offering_OneIssue|anac2010.AC_AgentK|ScalableBayesianModel|BestBid_t',\n",
       " 'anac2011.NiceTitForTat_Offering|anac2012.AC_CUHKAgent|PerfectModel|BestBid_t',\n",
       " 'anac2011.NiceTitForTat_Offering|anac2012.AC_CUHKAgent|NashFrequencyModel|BestBid_t',\n",
       " 'anac2011.NiceTitForTat_Offering|anac2012.AC_CUHKAgent|ScalableBayesianModel|BestBid_t',\n",
       " 'anac2011.NiceTitForTat_Offering|other.AC_Uncertain|PerfectModel|BestBid_t',\n",
       " 'anac2011.NiceTitForTat_Offering|other.AC_Uncertain|NashFrequencyModel|BestBid_t',\n",
       " 'anac2011.NiceTitForTat_Offering|other.AC_Uncertain|ScalableBayesianModel|BestBid_t',\n",
       " 'anac2011.NiceTitForTat_Offering|anac2010.AC_AgentK|PerfectModel|BestBid_t',\n",
       " 'anac2011.NiceTitForTat_Offering|anac2010.AC_AgentK|NashFrequencyModel|BestBid_t',\n",
       " 'anac2011.NiceTitForTat_Offering|anac2010.AC_AgentK|ScalableBayesianModel|BestBid_t',\n",
       " 'anac2012.TheNegotiatorReloaded_Offering|anac2012.AC_CUHKAgent|PerfectModel|BestBid_t',\n",
       " 'anac2012.TheNegotiatorReloaded_Offering|anac2012.AC_CUHKAgent|NashFrequencyModel|BestBid_t',\n",
       " 'anac2012.TheNegotiatorReloaded_Offering|anac2012.AC_CUHKAgent|ScalableBayesianModel|BestBid_t',\n",
       " 'anac2012.TheNegotiatorReloaded_Offering|other.AC_Uncertain|PerfectModel|BestBid_t',\n",
       " 'anac2012.TheNegotiatorReloaded_Offering|other.AC_Uncertain|NashFrequencyModel|BestBid_t',\n",
       " 'anac2012.TheNegotiatorReloaded_Offering|other.AC_Uncertain|ScalableBayesianModel|BestBid_t',\n",
       " 'Atlas3',\n",
       " 'PonPokoAgent',\n",
       " 'TheFawkes',\n",
       " 'KLH',\n",
       " 'anac2013.InoxAgent_Offering_OneIssue|anac2012.AC_CUHKAgent|NashFrequencyModel|BestBid_t',\n",
       " 'anac2013.InoxAgent_Offering_OneIssue|anac2012.AC_CUHKAgent|PerfectModel|BestBid_t']"
      ]
     },
     "execution_count": 4,
     "metadata": {},
     "output_type": "execute_result"
    }
   ],
   "source": [
    "agents = Laptop['Agent 1'].drop_duplicates().tolist()\n",
    "agents"
   ]
  },
  {
   "cell_type": "markdown",
   "metadata": {},
   "source": [
    "### Laptop"
   ]
  },
  {
   "cell_type": "code",
   "execution_count": 5,
   "metadata": {
    "pycharm": {
     "name": "#%%\n"
    }
   },
   "outputs": [],
   "source": [
    "dictionary1 = {}\n",
    "mediana1 = {}\n",
    "mejor1 = {}\n",
    "for agent in agents:\n",
    "    a = Laptop[Laptop['Agent 1'] == agent]['Utility 1']\n",
    "    b = Laptop[Laptop['Agent 2'] == agent]['Utility 2']\n",
    "    frames = [a, b]\n",
    "    dictionary1[agent] = pd.concat(frames)\n",
    "    mediana1[agent] = pd.concat(frames).median()\n",
    "    mejor1[agent] = 0"
   ]
  },
  {
   "cell_type": "code",
   "execution_count": 6,
   "metadata": {
    "pycharm": {
     "name": "#%%\n"
    }
   },
   "outputs": [
    {
     "name": "stdout",
     "output_type": "stream",
     "text": [
      "anac2012.TheNegotiatorReloaded_Offering|anac2010.AC_AgentK|ScalableBayesianModel|BestBid_t Igual|No igual => 12|18\n",
      "anac2012.TheNegotiatorReloaded_Offering|anac2010.AC_AgentK|NashFrequencyModel|BestBid_t Igual|No igual => 12|18\n",
      "anac2012.TheNegotiatorReloaded_Offering|anac2010.AC_AgentK|PerfectModel|BestBid_t Igual|No igual => 12|18\n",
      "anac2013.InoxAgent_Offering_OneIssue|anac2012.AC_CUHKAgent|ScalableBayesianModel|BestBid_t Igual|No igual => 6|24\n",
      "anac2013.InoxAgent_Offering_OneIssue|other.AC_Uncertain|PerfectModel|BestBid_t Igual|No igual => 7|23\n",
      "anac2013.InoxAgent_Offering_OneIssue|other.AC_Uncertain|NashFrequencyModel|BestBid_t Igual|No igual => 7|23\n",
      "anac2013.InoxAgent_Offering_OneIssue|other.AC_Uncertain|ScalableBayesianModel|BestBid_t Igual|No igual => 7|23\n",
      "anac2013.InoxAgent_Offering_OneIssue|anac2010.AC_AgentK|PerfectModel|BestBid_t Igual|No igual => 12|18\n",
      "anac2013.InoxAgent_Offering_OneIssue|anac2010.AC_AgentK|NashFrequencyModel|BestBid_t Igual|No igual => 13|17\n",
      "anac2013.InoxAgent_Offering_OneIssue|anac2010.AC_AgentK|ScalableBayesianModel|BestBid_t Igual|No igual => 12|18\n",
      "anac2011.NiceTitForTat_Offering|anac2012.AC_CUHKAgent|PerfectModel|BestBid_t Igual|No igual => 6|24\n",
      "anac2011.NiceTitForTat_Offering|anac2012.AC_CUHKAgent|NashFrequencyModel|BestBid_t Igual|No igual => 6|24\n",
      "anac2011.NiceTitForTat_Offering|anac2012.AC_CUHKAgent|ScalableBayesianModel|BestBid_t Igual|No igual => 10|20\n",
      "anac2011.NiceTitForTat_Offering|other.AC_Uncertain|PerfectModel|BestBid_t Igual|No igual => 8|22\n",
      "anac2011.NiceTitForTat_Offering|other.AC_Uncertain|NashFrequencyModel|BestBid_t Igual|No igual => 8|22\n",
      "anac2011.NiceTitForTat_Offering|other.AC_Uncertain|ScalableBayesianModel|BestBid_t Igual|No igual => 8|22\n",
      "anac2011.NiceTitForTat_Offering|anac2010.AC_AgentK|PerfectModel|BestBid_t Igual|No igual => 13|17\n",
      "anac2011.NiceTitForTat_Offering|anac2010.AC_AgentK|NashFrequencyModel|BestBid_t Igual|No igual => 13|17\n",
      "anac2011.NiceTitForTat_Offering|anac2010.AC_AgentK|ScalableBayesianModel|BestBid_t Igual|No igual => 13|17\n",
      "anac2012.TheNegotiatorReloaded_Offering|anac2012.AC_CUHKAgent|PerfectModel|BestBid_t Igual|No igual => 6|24\n",
      "anac2012.TheNegotiatorReloaded_Offering|anac2012.AC_CUHKAgent|NashFrequencyModel|BestBid_t Igual|No igual => 1|29\n",
      "anac2012.TheNegotiatorReloaded_Offering|anac2012.AC_CUHKAgent|ScalableBayesianModel|BestBid_t Igual|No igual => 7|23\n",
      "anac2012.TheNegotiatorReloaded_Offering|other.AC_Uncertain|PerfectModel|BestBid_t Igual|No igual => 8|22\n",
      "anac2012.TheNegotiatorReloaded_Offering|other.AC_Uncertain|NashFrequencyModel|BestBid_t Igual|No igual => 12|18\n",
      "anac2012.TheNegotiatorReloaded_Offering|other.AC_Uncertain|ScalableBayesianModel|BestBid_t Igual|No igual => 12|18\n",
      "Atlas3 Igual|No igual => 8|22\n",
      "PonPokoAgent Igual|No igual => 13|17\n",
      "TheFawkes Igual|No igual => 1|29\n",
      "KLH Igual|No igual => 9|21\n",
      "anac2013.InoxAgent_Offering_OneIssue|anac2012.AC_CUHKAgent|NashFrequencyModel|BestBid_t Igual|No igual => 6|24\n",
      "anac2013.InoxAgent_Offering_OneIssue|anac2012.AC_CUHKAgent|PerfectModel|BestBid_t Igual|No igual => 6|24\n"
     ]
    }
   ],
   "source": [
    "compare = []\n",
    "for key1 in dictionary1:\n",
    "    noiguales = 0\n",
    "    iguales = 0\n",
    "    for key2 in dictionary1:\n",
    "        if key1 != key2:\n",
    "            if is_unique(dictionary1[key1]) == False and is_unique(dictionary1[key2]) == False:\n",
    "                S, p = mannwhitneyu(dictionary1[key1], dictionary1[key2], use_continuity=False, alternative = 'two-sided')\n",
    "                if p < 0.05:\n",
    "                    noiguales += 1\n",
    "                    if key1 not in compare:\n",
    "                        if mediana1[key1] != mediana1[key2]:\n",
    "                            if mediana1[key1] > mediana1[key2]:\n",
    "                                 mejor1[key1] += 1\n",
    "                else:\n",
    "                    iguales += 1\n",
    "    compare.append(key1)\n",
    "    print(key1, \"Igual|No igual =>\", str(iguales) + \"|\" + str(noiguales))"
   ]
  },
  {
   "cell_type": "code",
   "execution_count": 7,
   "metadata": {
    "pycharm": {
     "name": "#%%\n"
    }
   },
   "outputs": [
    {
     "name": "stdout",
     "output_type": "stream",
     "text": [
      "anac2012.TheNegotiatorReloaded_Offering|anac2010.AC_AgentK|ScalableBayesianModel|BestBid_t => 18\n",
      "anac2012.TheNegotiatorReloaded_Offering|anac2010.AC_AgentK|NashFrequencyModel|BestBid_t => 18\n",
      "anac2012.TheNegotiatorReloaded_Offering|anac2010.AC_AgentK|PerfectModel|BestBid_t => 15\n",
      "anac2013.InoxAgent_Offering_OneIssue|anac2012.AC_CUHKAgent|ScalableBayesianModel|BestBid_t => 0\n",
      "anac2013.InoxAgent_Offering_OneIssue|other.AC_Uncertain|PerfectModel|BestBid_t => 7\n",
      "anac2013.InoxAgent_Offering_OneIssue|other.AC_Uncertain|NashFrequencyModel|BestBid_t => 7\n",
      "anac2013.InoxAgent_Offering_OneIssue|other.AC_Uncertain|ScalableBayesianModel|BestBid_t => 7\n",
      "anac2013.InoxAgent_Offering_OneIssue|anac2010.AC_AgentK|PerfectModel|BestBid_t => 15\n",
      "anac2013.InoxAgent_Offering_OneIssue|anac2010.AC_AgentK|NashFrequencyModel|BestBid_t => 15\n",
      "anac2013.InoxAgent_Offering_OneIssue|anac2010.AC_AgentK|ScalableBayesianModel|BestBid_t => 15\n",
      "anac2011.NiceTitForTat_Offering|anac2012.AC_CUHKAgent|PerfectModel|BestBid_t => 0\n",
      "anac2011.NiceTitForTat_Offering|anac2012.AC_CUHKAgent|NashFrequencyModel|BestBid_t => 0\n",
      "anac2011.NiceTitForTat_Offering|anac2012.AC_CUHKAgent|ScalableBayesianModel|BestBid_t => 0\n",
      "anac2011.NiceTitForTat_Offering|other.AC_Uncertain|PerfectModel|BestBid_t => 0\n",
      "anac2011.NiceTitForTat_Offering|other.AC_Uncertain|NashFrequencyModel|BestBid_t => 0\n",
      "anac2011.NiceTitForTat_Offering|other.AC_Uncertain|ScalableBayesianModel|BestBid_t => 0\n",
      "anac2011.NiceTitForTat_Offering|anac2010.AC_AgentK|PerfectModel|BestBid_t => 15\n",
      "anac2011.NiceTitForTat_Offering|anac2010.AC_AgentK|NashFrequencyModel|BestBid_t => 15\n",
      "anac2011.NiceTitForTat_Offering|anac2010.AC_AgentK|ScalableBayesianModel|BestBid_t => 16\n",
      "anac2012.TheNegotiatorReloaded_Offering|anac2012.AC_CUHKAgent|PerfectModel|BestBid_t => 0\n",
      "anac2012.TheNegotiatorReloaded_Offering|anac2012.AC_CUHKAgent|NashFrequencyModel|BestBid_t => 20\n",
      "anac2012.TheNegotiatorReloaded_Offering|anac2012.AC_CUHKAgent|ScalableBayesianModel|BestBid_t => 7\n",
      "anac2012.TheNegotiatorReloaded_Offering|other.AC_Uncertain|PerfectModel|BestBid_t => 0\n",
      "anac2012.TheNegotiatorReloaded_Offering|other.AC_Uncertain|NashFrequencyModel|BestBid_t => 17\n",
      "anac2012.TheNegotiatorReloaded_Offering|other.AC_Uncertain|ScalableBayesianModel|BestBid_t => 18\n",
      "Atlas3 => 22\n",
      "PonPokoAgent => 17\n",
      "TheFawkes => 21\n",
      "KLH => 17\n",
      "anac2013.InoxAgent_Offering_OneIssue|anac2012.AC_CUHKAgent|NashFrequencyModel|BestBid_t => 0\n",
      "anac2013.InoxAgent_Offering_OneIssue|anac2012.AC_CUHKAgent|PerfectModel|BestBid_t => 0\n"
     ]
    }
   ],
   "source": [
    "for key in mejor1:\n",
    "    print(key, '=>', mejor1[key])"
   ]
  },
  {
   "cell_type": "markdown",
   "metadata": {},
   "source": [
    "### Grocery"
   ]
  },
  {
   "cell_type": "code",
   "execution_count": 8,
   "metadata": {
    "pycharm": {
     "name": "#%%\n"
    }
   },
   "outputs": [],
   "source": [
    "dictionary2 = {}\n",
    "mediana2 = {}\n",
    "mejor2 = {}\n",
    "for agent in agents:\n",
    "    a = Grocery[Grocery['Agent 1'] == agent]['Utility 1']\n",
    "    b = Grocery[Grocery['Agent 2'] == agent]['Utility 2']\n",
    "    frames = [a, b]\n",
    "    dictionary2[agent] = pd.concat(frames)\n",
    "    mediana2[agent] = pd.concat(frames).median()\n",
    "    mejor2[agent] = 0"
   ]
  },
  {
   "cell_type": "code",
   "execution_count": 9,
   "metadata": {
    "pycharm": {
     "name": "#%%\n"
    }
   },
   "outputs": [
    {
     "name": "stdout",
     "output_type": "stream",
     "text": [
      "anac2012.TheNegotiatorReloaded_Offering|anac2010.AC_AgentK|ScalableBayesianModel|BestBid_t Igual|No igual => 9|21\n",
      "anac2012.TheNegotiatorReloaded_Offering|anac2010.AC_AgentK|NashFrequencyModel|BestBid_t Igual|No igual => 9|21\n",
      "anac2012.TheNegotiatorReloaded_Offering|anac2010.AC_AgentK|PerfectModel|BestBid_t Igual|No igual => 10|20\n",
      "anac2013.InoxAgent_Offering_OneIssue|anac2012.AC_CUHKAgent|ScalableBayesianModel|BestBid_t Igual|No igual => 3|27\n",
      "anac2013.InoxAgent_Offering_OneIssue|other.AC_Uncertain|PerfectModel|BestBid_t Igual|No igual => 6|24\n",
      "anac2013.InoxAgent_Offering_OneIssue|other.AC_Uncertain|NashFrequencyModel|BestBid_t Igual|No igual => 6|24\n",
      "anac2013.InoxAgent_Offering_OneIssue|other.AC_Uncertain|ScalableBayesianModel|BestBid_t Igual|No igual => 7|23\n",
      "anac2013.InoxAgent_Offering_OneIssue|anac2010.AC_AgentK|PerfectModel|BestBid_t Igual|No igual => 9|21\n",
      "anac2013.InoxAgent_Offering_OneIssue|anac2010.AC_AgentK|NashFrequencyModel|BestBid_t Igual|No igual => 9|21\n",
      "anac2013.InoxAgent_Offering_OneIssue|anac2010.AC_AgentK|ScalableBayesianModel|BestBid_t Igual|No igual => 10|20\n",
      "anac2011.NiceTitForTat_Offering|anac2012.AC_CUHKAgent|PerfectModel|BestBid_t Igual|No igual => 0|30\n",
      "anac2011.NiceTitForTat_Offering|anac2012.AC_CUHKAgent|NashFrequencyModel|BestBid_t Igual|No igual => 2|28\n",
      "anac2011.NiceTitForTat_Offering|anac2012.AC_CUHKAgent|ScalableBayesianModel|BestBid_t Igual|No igual => 3|27\n",
      "anac2011.NiceTitForTat_Offering|other.AC_Uncertain|PerfectModel|BestBid_t Igual|No igual => 1|29\n",
      "anac2011.NiceTitForTat_Offering|other.AC_Uncertain|NashFrequencyModel|BestBid_t Igual|No igual => 6|24\n",
      "anac2011.NiceTitForTat_Offering|other.AC_Uncertain|ScalableBayesianModel|BestBid_t Igual|No igual => 7|23\n",
      "anac2011.NiceTitForTat_Offering|anac2010.AC_AgentK|PerfectModel|BestBid_t Igual|No igual => 7|23\n",
      "anac2011.NiceTitForTat_Offering|anac2010.AC_AgentK|NashFrequencyModel|BestBid_t Igual|No igual => 10|20\n",
      "anac2011.NiceTitForTat_Offering|anac2010.AC_AgentK|ScalableBayesianModel|BestBid_t Igual|No igual => 9|21\n",
      "anac2012.TheNegotiatorReloaded_Offering|anac2012.AC_CUHKAgent|PerfectModel|BestBid_t Igual|No igual => 1|29\n",
      "anac2012.TheNegotiatorReloaded_Offering|anac2012.AC_CUHKAgent|NashFrequencyModel|BestBid_t Igual|No igual => 6|24\n",
      "anac2012.TheNegotiatorReloaded_Offering|anac2012.AC_CUHKAgent|ScalableBayesianModel|BestBid_t Igual|No igual => 3|27\n",
      "anac2012.TheNegotiatorReloaded_Offering|other.AC_Uncertain|PerfectModel|BestBid_t Igual|No igual => 6|24\n",
      "anac2012.TheNegotiatorReloaded_Offering|other.AC_Uncertain|NashFrequencyModel|BestBid_t Igual|No igual => 4|26\n",
      "anac2012.TheNegotiatorReloaded_Offering|other.AC_Uncertain|ScalableBayesianModel|BestBid_t Igual|No igual => 4|26\n",
      "Atlas3 Igual|No igual => 3|27\n",
      "PonPokoAgent Igual|No igual => 10|20\n",
      "TheFawkes Igual|No igual => 9|21\n",
      "KLH Igual|No igual => 5|25\n",
      "anac2013.InoxAgent_Offering_OneIssue|anac2012.AC_CUHKAgent|NashFrequencyModel|BestBid_t Igual|No igual => 3|27\n",
      "anac2013.InoxAgent_Offering_OneIssue|anac2012.AC_CUHKAgent|PerfectModel|BestBid_t Igual|No igual => 3|27\n"
     ]
    }
   ],
   "source": [
    "compare = []\n",
    "for key1 in dictionary2:\n",
    "    noiguales = 0\n",
    "    iguales = 0\n",
    "    for key2 in dictionary2:\n",
    "        if key1 != key2:\n",
    "            if is_unique(dictionary2[key1]) == False and is_unique(dictionary2[key2]) == False:\n",
    "                S, p = mannwhitneyu(dictionary2[key1], dictionary2[key2], use_continuity=False, alternative = 'two-sided')\n",
    "                if p < 0.05:\n",
    "                    noiguales += 1\n",
    "                    if key1 not in compare:\n",
    "                        if mediana2[key1] != mediana2[key2]:\n",
    "                            if mediana2[key1] > mediana2[key2]:\n",
    "                                 mejor2[key1] += 1\n",
    "                else:\n",
    "                    iguales += 1\n",
    "    compare.append(key1)\n",
    "    print(key1, \"Igual|No igual =>\", str(iguales) + \"|\" + str(noiguales))"
   ]
  },
  {
   "cell_type": "code",
   "execution_count": 10,
   "metadata": {
    "pycharm": {
     "name": "#%%\n"
    }
   },
   "outputs": [
    {
     "name": "stdout",
     "output_type": "stream",
     "text": [
      "anac2012.TheNegotiatorReloaded_Offering|anac2010.AC_AgentK|ScalableBayesianModel|BestBid_t => 17\n",
      "anac2012.TheNegotiatorReloaded_Offering|anac2010.AC_AgentK|NashFrequencyModel|BestBid_t => 15\n",
      "anac2012.TheNegotiatorReloaded_Offering|anac2010.AC_AgentK|PerfectModel|BestBid_t => 15\n",
      "anac2013.InoxAgent_Offering_OneIssue|anac2012.AC_CUHKAgent|ScalableBayesianModel|BestBid_t => 0\n",
      "anac2013.InoxAgent_Offering_OneIssue|other.AC_Uncertain|PerfectModel|BestBid_t => 8\n",
      "anac2013.InoxAgent_Offering_OneIssue|other.AC_Uncertain|NashFrequencyModel|BestBid_t => 9\n",
      "anac2013.InoxAgent_Offering_OneIssue|other.AC_Uncertain|ScalableBayesianModel|BestBid_t => 9\n",
      "anac2013.InoxAgent_Offering_OneIssue|anac2010.AC_AgentK|PerfectModel|BestBid_t => 15\n",
      "anac2013.InoxAgent_Offering_OneIssue|anac2010.AC_AgentK|NashFrequencyModel|BestBid_t => 15\n",
      "anac2013.InoxAgent_Offering_OneIssue|anac2010.AC_AgentK|ScalableBayesianModel|BestBid_t => 15\n",
      "anac2011.NiceTitForTat_Offering|anac2012.AC_CUHKAgent|PerfectModel|BestBid_t => 0\n",
      "anac2011.NiceTitForTat_Offering|anac2012.AC_CUHKAgent|NashFrequencyModel|BestBid_t => 0\n",
      "anac2011.NiceTitForTat_Offering|anac2012.AC_CUHKAgent|ScalableBayesianModel|BestBid_t => 0\n",
      "anac2011.NiceTitForTat_Offering|other.AC_Uncertain|PerfectModel|BestBid_t => 0\n",
      "anac2011.NiceTitForTat_Offering|other.AC_Uncertain|NashFrequencyModel|BestBid_t => 15\n",
      "anac2011.NiceTitForTat_Offering|other.AC_Uncertain|ScalableBayesianModel|BestBid_t => 9\n",
      "anac2011.NiceTitForTat_Offering|anac2010.AC_AgentK|PerfectModel|BestBid_t => 14\n",
      "anac2011.NiceTitForTat_Offering|anac2010.AC_AgentK|NashFrequencyModel|BestBid_t => 15\n",
      "anac2011.NiceTitForTat_Offering|anac2010.AC_AgentK|ScalableBayesianModel|BestBid_t => 15\n",
      "anac2012.TheNegotiatorReloaded_Offering|anac2012.AC_CUHKAgent|PerfectModel|BestBid_t => 8\n",
      "anac2012.TheNegotiatorReloaded_Offering|anac2012.AC_CUHKAgent|NashFrequencyModel|BestBid_t => 7\n",
      "anac2012.TheNegotiatorReloaded_Offering|anac2012.AC_CUHKAgent|ScalableBayesianModel|BestBid_t => 7\n",
      "anac2012.TheNegotiatorReloaded_Offering|other.AC_Uncertain|PerfectModel|BestBid_t => 8\n",
      "anac2012.TheNegotiatorReloaded_Offering|other.AC_Uncertain|NashFrequencyModel|BestBid_t => 23\n",
      "anac2012.TheNegotiatorReloaded_Offering|other.AC_Uncertain|ScalableBayesianModel|BestBid_t => 23\n",
      "Atlas3 => 27\n",
      "PonPokoAgent => 16\n",
      "TheFawkes => 17\n",
      "KLH => 22\n",
      "anac2013.InoxAgent_Offering_OneIssue|anac2012.AC_CUHKAgent|NashFrequencyModel|BestBid_t => 0\n",
      "anac2013.InoxAgent_Offering_OneIssue|anac2012.AC_CUHKAgent|PerfectModel|BestBid_t => 0\n"
     ]
    }
   ],
   "source": [
    "for key in mejor2:\n",
    "    print(key, '=>', mejor2[key])"
   ]
  },
  {
   "cell_type": "markdown",
   "metadata": {},
   "source": [
    "### Itex-Cypress"
   ]
  },
  {
   "cell_type": "code",
   "execution_count": 14,
   "metadata": {
    "pycharm": {
     "name": "#%%\n"
    }
   },
   "outputs": [],
   "source": [
    "dictionary3 = {}\n",
    "mediana3 = {}\n",
    "mejor3 = {}\n",
    "for agent in agents:\n",
    "    a = ItexCypress[ItexCypress['Agent 1'] == agent]['Utility 1']\n",
    "    b = ItexCypress[ItexCypress['Agent 2'] == agent]['Utility 2']\n",
    "    frames = [a, b]\n",
    "    dictionary3[agent] = pd.concat(frames)\n",
    "    mediana3[agent] = pd.concat(frames).median()\n",
    "    mejor3[agent] = 0"
   ]
  },
  {
   "cell_type": "code",
   "execution_count": 13,
   "metadata": {},
   "outputs": [
    {
     "data": {
      "text/plain": [
       "2       0.5\n",
       "33      0.5\n",
       "64      0.5\n",
       "95      0.5\n",
       "126     0.5\n",
       "       ... \n",
       "6574    0.5\n",
       "6605    0.5\n",
       "6636    0.5\n",
       "6667    0.5\n",
       "6698    0.5\n",
       "Length: 434, dtype: float64"
      ]
     },
     "execution_count": 13,
     "metadata": {},
     "output_type": "execute_result"
    }
   ],
   "source": [
    "dictionary3['anac2013.InoxAgent_Offering_OneIssue|anac2012.AC_CUHKAgent|ScalableBayesianModel|BestBid_t']"
   ]
  },
  {
   "cell_type": "code",
   "execution_count": 20,
   "metadata": {
    "pycharm": {
     "name": "#%%\n"
    }
   },
   "outputs": [
    {
     "name": "stdout",
     "output_type": "stream",
     "text": [
      "anac2012.TheNegotiatorReloaded_Offering|anac2010.AC_AgentK|ScalableBayesianModel|BestBid_t Igual|No igual => 6|16\n",
      "anac2012.TheNegotiatorReloaded_Offering|anac2010.AC_AgentK|NashFrequencyModel|BestBid_t Igual|No igual => 4|18\n",
      "anac2012.TheNegotiatorReloaded_Offering|anac2010.AC_AgentK|PerfectModel|BestBid_t Igual|No igual => 1|21\n",
      "anac2013.InoxAgent_Offering_OneIssue|anac2012.AC_CUHKAgent|ScalableBayesianModel|BestBid_t Igual|No igual => 0|0\n",
      "anac2013.InoxAgent_Offering_OneIssue|other.AC_Uncertain|PerfectModel|BestBid_t Igual|No igual => 0|0\n",
      "anac2013.InoxAgent_Offering_OneIssue|other.AC_Uncertain|NashFrequencyModel|BestBid_t Igual|No igual => 0|0\n",
      "anac2013.InoxAgent_Offering_OneIssue|other.AC_Uncertain|ScalableBayesianModel|BestBid_t Igual|No igual => 0|0\n",
      "anac2013.InoxAgent_Offering_OneIssue|anac2010.AC_AgentK|PerfectModel|BestBid_t Igual|No igual => 6|16\n",
      "anac2013.InoxAgent_Offering_OneIssue|anac2010.AC_AgentK|NashFrequencyModel|BestBid_t Igual|No igual => 6|16\n",
      "anac2013.InoxAgent_Offering_OneIssue|anac2010.AC_AgentK|ScalableBayesianModel|BestBid_t Igual|No igual => 6|16\n",
      "anac2011.NiceTitForTat_Offering|anac2012.AC_CUHKAgent|PerfectModel|BestBid_t Igual|No igual => 0|0\n",
      "anac2011.NiceTitForTat_Offering|anac2012.AC_CUHKAgent|NashFrequencyModel|BestBid_t Igual|No igual => 6|16\n",
      "anac2011.NiceTitForTat_Offering|anac2012.AC_CUHKAgent|ScalableBayesianModel|BestBid_t Igual|No igual => 3|19\n",
      "anac2011.NiceTitForTat_Offering|other.AC_Uncertain|PerfectModel|BestBid_t Igual|No igual => 0|0\n",
      "anac2011.NiceTitForTat_Offering|other.AC_Uncertain|NashFrequencyModel|BestBid_t Igual|No igual => 6|16\n",
      "anac2011.NiceTitForTat_Offering|other.AC_Uncertain|ScalableBayesianModel|BestBid_t Igual|No igual => 5|17\n",
      "anac2011.NiceTitForTat_Offering|anac2010.AC_AgentK|PerfectModel|BestBid_t Igual|No igual => 6|16\n",
      "anac2011.NiceTitForTat_Offering|anac2010.AC_AgentK|NashFrequencyModel|BestBid_t Igual|No igual => 6|16\n",
      "anac2011.NiceTitForTat_Offering|anac2010.AC_AgentK|ScalableBayesianModel|BestBid_t Igual|No igual => 5|17\n",
      "anac2012.TheNegotiatorReloaded_Offering|anac2012.AC_CUHKAgent|PerfectModel|BestBid_t Igual|No igual => 3|19\n",
      "anac2012.TheNegotiatorReloaded_Offering|anac2012.AC_CUHKAgent|NashFrequencyModel|BestBid_t Igual|No igual => 8|14\n",
      "anac2012.TheNegotiatorReloaded_Offering|anac2012.AC_CUHKAgent|ScalableBayesianModel|BestBid_t Igual|No igual => 3|19\n",
      "anac2012.TheNegotiatorReloaded_Offering|other.AC_Uncertain|PerfectModel|BestBid_t Igual|No igual => 0|22\n",
      "anac2012.TheNegotiatorReloaded_Offering|other.AC_Uncertain|NashFrequencyModel|BestBid_t Igual|No igual => 2|20\n",
      "anac2012.TheNegotiatorReloaded_Offering|other.AC_Uncertain|ScalableBayesianModel|BestBid_t Igual|No igual => 6|16\n",
      "Atlas3 Igual|No igual => 0|22\n",
      "PonPokoAgent Igual|No igual => 2|20\n",
      "TheFawkes Igual|No igual => 6|16\n",
      "KLH Igual|No igual => 0|22\n",
      "anac2013.InoxAgent_Offering_OneIssue|anac2012.AC_CUHKAgent|NashFrequencyModel|BestBid_t Igual|No igual => 0|0\n",
      "anac2013.InoxAgent_Offering_OneIssue|anac2012.AC_CUHKAgent|PerfectModel|BestBid_t Igual|No igual => 0|0\n"
     ]
    }
   ],
   "source": [
    "compare = []\n",
    "for key1 in dictionary3:\n",
    "    noiguales = 0\n",
    "    iguales = 0\n",
    "    for key2 in dictionary3:\n",
    "        if key1 != key2:\n",
    "            if is_unique(dictionary3[key1]) == False and is_unique(dictionary3[key2]) == False:\n",
    "                S, p = mannwhitneyu(dictionary3[key1], dictionary3[key2], use_continuity=False, alternative = 'two-sided')\n",
    "                if p < 0.05:\n",
    "                    noiguales += 1\n",
    "                    if key1 not in compare:\n",
    "                        if mediana3[key1] != mediana3[key2]:\n",
    "                            if mediana3[key1] > mediana3[key2]:\n",
    "                                 mejor3[key1] += 1\n",
    "                else:\n",
    "                    iguales += 1\n",
    "    compare.append(key1)\n",
    "    print(key1, \"Igual|No igual =>\", str(iguales) + \"|\" + str(noiguales))"
   ]
  },
  {
   "cell_type": "code",
   "execution_count": null,
   "metadata": {
    "pycharm": {
     "name": "#%%\n"
    }
   },
   "outputs": [],
   "source": [
    "for key in mejor3:\n",
    "    print(key, '=>', mejor3[key])"
   ]
  },
  {
   "cell_type": "markdown",
   "metadata": {},
   "source": [
    "### Travel"
   ]
  },
  {
   "cell_type": "code",
   "execution_count": null,
   "metadata": {
    "pycharm": {
     "name": "#%%\n"
    }
   },
   "outputs": [],
   "source": [
    "dictionary4 = {}\n",
    "mediana4 = {}\n",
    "mejor4 = {}\n",
    "for agent in agents:\n",
    "    a = Travel[Travel['Agent 1'] == agent]['Utility 1']\n",
    "    b = Travel[Travel['Agent 2'] == agent]['Utility 2']\n",
    "    frames = [a, b]\n",
    "    dictionary4[agent] = pd.concat(frames)\n",
    "    mediana4[agent] = pd.concat(frames).median()\n",
    "    mejor4[agent] = 0"
   ]
  },
  {
   "cell_type": "code",
   "execution_count": null,
   "metadata": {
    "pycharm": {
     "name": "#%%\n"
    }
   },
   "outputs": [],
   "source": [
    "compare = []\n",
    "for key1 in dictionary4:\n",
    "    noiguales = 0\n",
    "    iguales = 0\n",
    "    for key2 in dictionary4:\n",
    "        if key1 != key2:\n",
    "            if is_unique(dictionary4[key1]) == False and is_unique(dictionary4[key2]) == False:\n",
    "                S, p = mannwhitneyu(dictionary4[key1], dictionary4[key2], use_continuity=False, alternative = 'two-sided')\n",
    "                if p < 0.05:\n",
    "                    noiguales += 1\n",
    "                    if key1 not in compare:\n",
    "                        if mediana4[key1] != mediana4[key2]:\n",
    "                            if mediana4[key1] > mediana4[key2]:\n",
    "                                 mejor4[key1] += 1\n",
    "                else:\n",
    "                    iguales += 1\n",
    "    compare.append(key1)\n",
    "    print(key1, \"Igual|No igual =>\", str(iguales) + \"|\" + str(noiguales))"
   ]
  },
  {
   "cell_type": "code",
   "execution_count": null,
   "metadata": {
    "pycharm": {
     "name": "#%%\n"
    }
   },
   "outputs": [],
   "source": [
    "for key in mejor4:\n",
    "    print(key, '=>', mejor4[key])"
   ]
  },
  {
   "cell_type": "markdown",
   "metadata": {},
   "source": [
    "### Modificación modelo"
   ]
  },
  {
   "cell_type": "code",
   "execution_count": null,
   "metadata": {},
   "outputs": [],
   "source": [
    "contents = ['boa-negotiator.boaframework.offeringstrategy.', 'negotiator.boaframework.acceptanceconditions.', 'C..Desarrollo.Master.OpponentModel.out.production.OpponentModel.es.upv.opponentmodel.', 'negotiator.boaframework.omstrategy.']\n",
    "for content in contents:\n",
    "    Evaluation['Agent 1'] = Evaluation['Agent 1'].str.replace(content,'')    \n",
    "    Evaluation['Agent 2'] = Evaluation['Agent 1'].str.replace(content,'')\n",
    "#Columna: Agent 1\n",
    "Evaluation['Agent 1'] = Evaluation['Agent 1'].str.replace('-','|').str.split('@').str[0]\n",
    "#Columna: Agent 2\n",
    "Evaluation['Agent 2'] = Evaluation['Agent 1'].str.replace('-','|').str.split('@').str[0]"
   ]
  },
  {
   "cell_type": "code",
   "execution_count": null,
   "metadata": {},
   "outputs": [],
   "source": [
    "agents1 = Evaluation['Agent 1'].drop_duplicates().tolist()\n",
    "agents1"
   ]
  },
  {
   "cell_type": "code",
   "execution_count": null,
   "metadata": {
    "pycharm": {
     "name": "#%%\n"
    }
   },
   "outputs": [],
   "source": [
    "dictionary5 = {}\n",
    "mediana5 = {}\n",
    "mejor5 = {}\n",
    "for agent in agents1:\n",
    "    a = Evaluation[Evaluation['Agent 1'] == agent]['Utility 1']\n",
    "    b = Evaluation[Evaluation['Agent 2'] == agent]['Utility 2']\n",
    "    frames = [a, b]\n",
    "    dictionary5[agent] = pd.concat(frames)\n",
    "    mediana5[agent] = pd.concat(frames).median()\n",
    "    mejor5[agent] = 0"
   ]
  },
  {
   "cell_type": "code",
   "execution_count": 21,
   "metadata": {
    "pycharm": {
     "name": "#%%\n"
    }
   },
   "outputs": [
    {
     "ename": "NameError",
     "evalue": "name 'dictionary5' is not defined",
     "output_type": "error",
     "traceback": [
      "\u001B[1;31m---------------------------------------------------------------------------\u001B[0m",
      "\u001B[1;31mNameError\u001B[0m                                 Traceback (most recent call last)",
      "\u001B[1;32m<ipython-input-21-5b9a23c217c8>\u001B[0m in \u001B[0;36m<module>\u001B[1;34m\u001B[0m\n\u001B[0;32m      1\u001B[0m \u001B[0mcompare\u001B[0m \u001B[1;33m=\u001B[0m \u001B[1;33m[\u001B[0m\u001B[1;33m]\u001B[0m\u001B[1;33m\u001B[0m\u001B[1;33m\u001B[0m\u001B[0m\n\u001B[1;32m----> 2\u001B[1;33m \u001B[1;32mfor\u001B[0m \u001B[0mkey1\u001B[0m \u001B[1;32min\u001B[0m \u001B[0mdictionary5\u001B[0m\u001B[1;33m:\u001B[0m\u001B[1;33m\u001B[0m\u001B[1;33m\u001B[0m\u001B[0m\n\u001B[0m\u001B[0;32m      3\u001B[0m     \u001B[0mnoiguales\u001B[0m \u001B[1;33m=\u001B[0m \u001B[1;36m0\u001B[0m\u001B[1;33m\u001B[0m\u001B[1;33m\u001B[0m\u001B[0m\n\u001B[0;32m      4\u001B[0m     \u001B[0miguales\u001B[0m \u001B[1;33m=\u001B[0m \u001B[1;36m0\u001B[0m\u001B[1;33m\u001B[0m\u001B[1;33m\u001B[0m\u001B[0m\n\u001B[0;32m      5\u001B[0m     \u001B[1;32mfor\u001B[0m \u001B[0mkey2\u001B[0m \u001B[1;32min\u001B[0m \u001B[0mdictionary5\u001B[0m\u001B[1;33m:\u001B[0m\u001B[1;33m\u001B[0m\u001B[1;33m\u001B[0m\u001B[0m\n",
      "\u001B[1;31mNameError\u001B[0m: name 'dictionary5' is not defined"
     ]
    }
   ],
   "source": [
    "compare = []\n",
    "for key1 in dictionary5:\n",
    "    noiguales = 0\n",
    "    iguales = 0\n",
    "    for key2 in dictionary5:\n",
    "        if key1 != key2:\n",
    "            if is_unique(dictionary5[key1]) == False and is_unique(dictionary5[key2]) == False:\n",
    "                S, p = mannwhitneyu(dictionary5[key1], dictionary5[key2], use_continuity=False, alternative = 'two-sided')\n",
    "                if p < 0.05:\n",
    "                    noiguales += 1\n",
    "                    if key1 not in compare:\n",
    "                        if mediana5[key1] != mediana5[key2]:\n",
    "                            if mediana5[key1] > mediana5[key2]:\n",
    "                                 mejor5[key1] += 1\n",
    "                else:\n",
    "                    iguales += 1\n",
    "    compare.append(key1)\n",
    "    print(key1, \"Igual|No igual =>\", str(iguales) + \"|\" + str(noiguales))"
   ]
  },
  {
   "cell_type": "code",
   "execution_count": null,
   "metadata": {
    "pycharm": {
     "name": "#%%\n"
    }
   },
   "outputs": [],
   "source": [
    "for key in mejor5:\n",
    "    print(key, '=>', mejor5[key])"
   ]
  },
  {
   "cell_type": "code",
   "execution_count": null,
   "metadata": {},
   "outputs": [],
   "source": []
  }
 ],
 "metadata": {
  "kernelspec": {
   "display_name": "Python 3",
   "language": "python",
   "name": "python3"
  },
  "language_info": {
   "codemirror_mode": {
    "name": "ipython",
    "version": 3
   },
   "file_extension": ".py",
   "mimetype": "text/x-python",
   "name": "python",
   "nbconvert_exporter": "python",
   "pygments_lexer": "ipython3",
   "version": "3.7.8"
  }
 },
 "nbformat": 4,
 "nbformat_minor": 1
}